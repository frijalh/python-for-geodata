{
 "cells": [
  {
   "cell_type": "code",
   "execution_count": 1,
   "metadata": {},
   "outputs": [
    {
     "name": "stdout",
     "output_type": "stream",
     "text": [
      "Requirement already satisfied: geopandas in d:\\tempat install\\anaconda\\lib\\site-packages (0.13.2)\n",
      "Requirement already satisfied: shapely in d:\\tempat install\\anaconda\\lib\\site-packages (2.0.1)\n",
      "Requirement already satisfied: packaging in d:\\tempat install\\anaconda\\lib\\site-packages (from geopandas) (21.3)\n",
      "Requirement already satisfied: pandas>=1.1.0 in d:\\tempat install\\anaconda\\lib\\site-packages (from geopandas) (1.4.2)\n",
      "Requirement already satisfied: fiona>=1.8.19 in d:\\tempat install\\anaconda\\lib\\site-packages (from geopandas) (1.9.4.post1)\n",
      "Requirement already satisfied: pyproj>=3.0.1 in d:\\tempat install\\anaconda\\lib\\site-packages (from geopandas) (3.6.0)\n",
      "Requirement already satisfied: numpy>=1.14 in d:\\tempat install\\anaconda\\lib\\site-packages (from shapely) (1.21.5)\n",
      "Requirement already satisfied: click~=8.0 in d:\\tempat install\\anaconda\\lib\\site-packages (from fiona>=1.8.19->geopandas) (8.0.4)\n",
      "Requirement already satisfied: certifi in d:\\tempat install\\anaconda\\lib\\site-packages (from fiona>=1.8.19->geopandas) (2021.10.8)\n",
      "Requirement already satisfied: importlib-metadata in d:\\tempat install\\anaconda\\lib\\site-packages (from fiona>=1.8.19->geopandas) (4.11.3)\n",
      "Requirement already satisfied: attrs>=19.2.0 in d:\\tempat install\\anaconda\\lib\\site-packages (from fiona>=1.8.19->geopandas) (21.4.0)\n",
      "Requirement already satisfied: click-plugins>=1.0 in d:\\tempat install\\anaconda\\lib\\site-packages (from fiona>=1.8.19->geopandas) (1.1.1)\n",
      "Requirement already satisfied: six in d:\\tempat install\\anaconda\\lib\\site-packages (from fiona>=1.8.19->geopandas) (1.16.0)\n",
      "Requirement already satisfied: cligj>=0.5 in d:\\tempat install\\anaconda\\lib\\site-packages (from fiona>=1.8.19->geopandas) (0.7.2)\n",
      "Requirement already satisfied: colorama in d:\\tempat install\\anaconda\\lib\\site-packages (from click~=8.0->fiona>=1.8.19->geopandas) (0.4.4)\n",
      "Requirement already satisfied: python-dateutil>=2.8.1 in d:\\tempat install\\anaconda\\lib\\site-packages (from pandas>=1.1.0->geopandas) (2.8.2)\n",
      "Requirement already satisfied: pytz>=2020.1 in d:\\tempat install\\anaconda\\lib\\site-packages (from pandas>=1.1.0->geopandas) (2021.3)\n",
      "Requirement already satisfied: zipp>=0.5 in d:\\tempat install\\anaconda\\lib\\site-packages (from importlib-metadata->fiona>=1.8.19->geopandas) (3.7.0)\n",
      "Requirement already satisfied: pyparsing!=3.0.5,>=2.0.2 in d:\\tempat install\\anaconda\\lib\\site-packages (from packaging->geopandas) (3.0.4)\n",
      "Note: you may need to restart the kernel to use updated packages.\n"
     ]
    }
   ],
   "source": [
    "pip install geopandas shapely"
   ]
  },
  {
   "cell_type": "code",
   "execution_count": 2,
   "metadata": {},
   "outputs": [],
   "source": [
    "import geopandas as gpd\n",
    "from shapely.geometry import box"
   ]
  },
  {
   "cell_type": "code",
   "execution_count": 3,
   "metadata": {},
   "outputs": [
    {
     "name": "stdout",
     "output_type": "stream",
     "text": [
      "                  PROVINSI PROVNO KABKOTNO           KABKOT  \\\n",
      "0                     BALI     51       01         JEMBRANA   \n",
      "1                     BALI     51       02          TABANAN   \n",
      "2                     BALI     51       03           BADUNG   \n",
      "3                     BALI     51       03          TABANAN   \n",
      "4                     BALI     51       04          GIANYAR   \n",
      "..                     ...    ...      ...              ...   \n",
      "510         SUMATERA UTARA     12       76      KOTA BINJAI   \n",
      "511         SUMATERA UTARA     12       77  PADANGSIDIMPUAN   \n",
      "512         SUMATERA UTARA     12       78     GUNUNGSITOLI   \n",
      "513         SUMATERA UTARA     12       88       DANAU TOBA   \n",
      "514  TIDAK MENGIKUTI CITRA     73       16         ENREKANG   \n",
      "\n",
      "                                              geometry  \n",
      "0    POLYGON ((114.44034 -8.16496, 114.44168 -8.165...  \n",
      "1    POLYGON ((115.18428 -8.24655, 115.18463 -8.247...  \n",
      "2    MULTIPOLYGON (((115.21570 -8.76005, 115.21553 ...  \n",
      "3    POLYGON ((115.18241 -8.49845, 115.18242 -8.497...  \n",
      "4    MULTIPOLYGON (((115.30010 -8.41212, 115.30009 ...  \n",
      "..                                                 ...  \n",
      "510  POLYGON ((98.51097 3.67031, 98.51110 3.66712, ...  \n",
      "511  POLYGON ((99.25068 1.46999, 99.25068 1.46999, ...  \n",
      "512  MULTIPOLYGON (((97.63634 1.09420, 97.64343 1.0...  \n",
      "513  POLYGON ((98.57563 2.88315, 98.57666 2.88275, ...  \n",
      "514  POLYGON ((119.89708 -3.31886, 119.89909 -3.323...  \n",
      "\n",
      "[515 rows x 5 columns]\n"
     ]
    }
   ],
   "source": [
    "shp3 = gpd.read_file(\"file directory\")\n",
    "print(shp3)"
   ]
  },
  {
   "cell_type": "code",
   "execution_count": 4,
   "metadata": {},
   "outputs": [],
   "source": [
    "shp2=gpd.read_file(\"file directory\")"
   ]
  },
  {
   "cell_type": "code",
   "execution_count": null,
   "metadata": {},
   "outputs": [],
   "source": [
    "intersected_result = gpd.overlay(shp3, shp2, how='intersection')"
   ]
  },
  {
   "cell_type": "code",
   "execution_count": 6,
   "metadata": {},
   "outputs": [],
   "source": [
    "intersected_result.to_file(\"file dire\")"
   ]
  },
  {
   "cell_type": "code",
   "execution_count": null,
   "metadata": {},
   "outputs": [],
   "source": [
    "hasil_intersect=gpd.overlay()"
   ]
  }
 ],
 "metadata": {
  "kernelspec": {
   "display_name": "base",
   "language": "python",
   "name": "python3"
  },
  "language_info": {
   "codemirror_mode": {
    "name": "ipython",
    "version": 3
   },
   "file_extension": ".py",
   "mimetype": "text/x-python",
   "name": "python",
   "nbconvert_exporter": "python",
   "pygments_lexer": "ipython3",
   "version": "3.9.12"
  },
  "orig_nbformat": 4,
  "vscode": {
   "interpreter": {
    "hash": "acdab7f077e35937690f659428028f6a827407d103c145843bf8bfee7f129740"
   }
  }
 },
 "nbformat": 4,
 "nbformat_minor": 2
}
